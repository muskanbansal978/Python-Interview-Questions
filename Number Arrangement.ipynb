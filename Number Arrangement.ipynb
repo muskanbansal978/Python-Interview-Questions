{
 "cells": [
  {
   "cell_type": "markdown",
   "metadata": {},
   "source": [
    "This is one of the interview question I got:\n",
    "\n",
    "Arrane the numbers +ve and -ve numbers alternatively. if any of them is not present anymore then add all the leftover numbers as is"
   ]
  },
  {
   "cell_type": "code",
   "execution_count": 15,
   "metadata": {},
   "outputs": [
    {
     "name": "stdout",
     "output_type": "stream",
     "text": [
      "[22, -9, 23, -8, 24, -5, 16, -4, 15, -2, 14, -1, 10, 0, 8, 7]\n"
     ]
    }
   ],
   "source": [
    "numbers = [1,-1,2,-2,3,-4,-5,6,7,8,0,-8,-9,10,14,15,16,24,23,22]\n",
    "positive_numbers = []\n",
    "negative_numbers = []\n",
    "alternate_numbers=[]\n",
    "\n",
    "for num in numbers:\n",
    "    if num >= 0:\n",
    "        positive_numbers.append(num)\n",
    "    else:\n",
    "        negative_numbers.append(num)\n",
    "\n",
    "        \n",
    "for i in range(len(numbers)//2):\n",
    "    if len(positive_numbers)>0:\n",
    "        positive_number=positive_numbers.pop()\n",
    "        alternate_numbers.append(positive_number)\n",
    "        \n",
    "        \n",
    "    if len(negative_numbers)>0:\n",
    "        negative_number=negative_numbers.pop()\n",
    "        alternate_numbers.append(negative_number)\n",
    "        \n",
    "    \n",
    "    \n",
    "    \n",
    "print(alternate_numbers)\n"
   ]
  },
  {
   "cell_type": "code",
   "execution_count": null,
   "metadata": {},
   "outputs": [],
   "source": []
  }
 ],
 "metadata": {
  "kernelspec": {
   "display_name": "Python 3",
   "language": "python",
   "name": "python3"
  },
  "language_info": {
   "codemirror_mode": {
    "name": "ipython",
    "version": 3
   },
   "file_extension": ".py",
   "mimetype": "text/x-python",
   "name": "python",
   "nbconvert_exporter": "python",
   "pygments_lexer": "ipython3",
   "version": "3.8.3"
  }
 },
 "nbformat": 4,
 "nbformat_minor": 4
}
