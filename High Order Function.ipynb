{
 "cells": [
  {
   "cell_type": "markdown",
   "metadata": {},
   "source": [
    "Create a high order function to sum the elememts of a list (The list can be nested)."
   ]
  },
  {
   "cell_type": "code",
   "execution_count": 24,
   "metadata": {},
   "outputs": [
    {
     "name": "stdout",
     "output_type": "stream",
     "text": [
      "6\n",
      "9\n",
      "13\n"
     ]
    }
   ],
   "source": [
    "def sum(numbers):\n",
    "    result=0\n",
    "    if type(numbers) is list:\n",
    "        for num in numbers:\n",
    "            result+=num\n",
    "    else:\n",
    "        result=numbers\n",
    "    return result\n",
    "\n",
    "def hof(numbers_list):\n",
    "    final_result=0\n",
    "    for i in numbers_list:\n",
    "        final_result+=sum(i)\n",
    "    return final_result\n",
    "    \n",
    "    \n",
    "print(hof([1,2,3]))\n",
    "print(hof([[2,3],[4]]))  \n",
    "print(hof([[3],[4],[6]]))\n"
   ]
  },
  {
   "cell_type": "code",
   "execution_count": null,
   "metadata": {},
   "outputs": [],
   "source": []
  }
 ],
 "metadata": {
  "kernelspec": {
   "display_name": "Python 3",
   "language": "python",
   "name": "python3"
  },
  "language_info": {
   "codemirror_mode": {
    "name": "ipython",
    "version": 3
   },
   "file_extension": ".py",
   "mimetype": "text/x-python",
   "name": "python",
   "nbconvert_exporter": "python",
   "pygments_lexer": "ipython3",
   "version": "3.8.3"
  }
 },
 "nbformat": 4,
 "nbformat_minor": 4
}
